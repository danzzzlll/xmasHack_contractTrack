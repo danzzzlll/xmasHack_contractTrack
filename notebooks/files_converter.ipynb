{
 "cells": [
  {
   "cell_type": "code",
   "execution_count": 129,
   "id": "888111bf",
   "metadata": {
    "cellId": "h69qee5kvr9rqnvjkd13xo"
   },
   "outputs": [],
   "source": [
    "from docx2pdf import convert\n",
    "import aspose.words as aw\n",
    "import glob"
   ]
  },
  {
   "cell_type": "code",
   "execution_count": null,
   "id": "61398c5d",
   "metadata": {
    "cellId": "z4tcgz2634vocgg6ieil"
   },
   "outputs": [],
   "source": [
    "files_list = glob.glob(\"/hacka-aka-embedika/docs/*.doc*\")"
   ]
  },
  {
   "cell_type": "code",
   "execution_count": null,
   "id": "31b2bbb9",
   "metadata": {
    "cellId": "0al039mta58wffuxtrp8f0a"
   },
   "outputs": [],
   "source": [
    "files_list += glob.glob(\"/hacka-aka-embedika/docs/*.rtf\")"
   ]
  },
  {
   "cell_type": "code",
   "execution_count": null,
   "id": "0e3b5fd8",
   "metadata": {
    "cellId": "ndwvt0wsfj3nsqf06zb3o"
   },
   "outputs": [],
   "source": [
    "files_list = [filename.split('/')[-1] for filename in files_list]"
   ]
  },
  {
   "cell_type": "code",
   "execution_count": null,
   "id": "e2424344",
   "metadata": {
    "cellId": "wxycer71jzd0s5lqxc80wqe"
   },
   "outputs": [],
   "source": [
    "for filename in files_list:\n",
    "    if filename.endswith('.rtf') or filename.endswith('.doc'):\n",
    "        doc = aw.Document('/hacka-aka-embedika/docs/' + filename)\n",
    "        doc.save('/hacka-aka-embedika/docs/' + filename.split('.')[0] + '.docx')"
   ]
  },
  {
   "cell_type": "code",
   "execution_count": 115,
   "id": "0e967c6f",
   "metadata": {
    "cellId": "tuxv48rkbtd3nzxi5vpukr"
   },
   "outputs": [],
   "source": [
    "files_list = glob.glob(\"/hacka-aka-embedika/docs/*.docx\")"
   ]
  },
  {
   "cell_type": "code",
   "execution_count": 131,
   "id": "0bffb096",
   "metadata": {
    "cellId": "t4h1dtzbazjamef5r8uji"
   },
   "outputs": [
    {
     "ename": "NameError",
     "evalue": "name 'convert' is not defined",
     "output_type": "error",
     "traceback": [
      "\u001b[0;31m---------------------------------------------------------------------------\u001b[0m",
      "\u001b[0;31mNameError\u001b[0m                                 Traceback (most recent call last)",
      "\u001b[0;32m<ipython-input-1-db0383cd72a7>\u001b[0m in \u001b[0;36m<module>\u001b[0;34m\u001b[0m\n\u001b[1;32m      1\u001b[0m \u001b[0;32mfor\u001b[0m \u001b[0mfile\u001b[0m \u001b[0;32min\u001b[0m \u001b[0mfiles_list\u001b[0m\u001b[0;34m:\u001b[0m\u001b[0;34m\u001b[0m\u001b[0;34m\u001b[0m\u001b[0m\n\u001b[0;32m----> 2\u001b[0;31m     \u001b[0mconvert\u001b[0m\u001b[0;34m(\u001b[0m\u001b[0mfile\u001b[0m\u001b[0;34m)\u001b[0m\u001b[0;34m\u001b[0m\u001b[0;34m\u001b[0m\u001b[0m\n\u001b[0m\u001b[1;32m      3\u001b[0m \u001b[0;31m#\u001b[0m\u001b[0;34m\u001b[0m\u001b[0;34m\u001b[0m\u001b[0;34m\u001b[0m\u001b[0m\n",
      "\u001b[0;31mNameError\u001b[0m: name 'convert' is not defined"
     ]
    }
   ],
   "source": [
    "for file in files_list:\n",
    "    convert(file)"
   ]
  }
 ],
 "metadata": {
  "language_info": {
   "codemirror_mode": {
    "name": "ipython",
    "version": 3
   },
   "file_extension": ".py",
   "mimetype": "text/x-python",
   "name": "python",
   "nbconvert_exporter": "python",
   "pygments_lexer": "ipython3",
   "version": "3.7.7"
  },
  "notebookId": "06e08e53-72a3-423e-a2ea-d6b4c4d3df51",
  "notebookPath": "Msh.ipynb"
 },
 "nbformat": 4,
 "nbformat_minor": 5
}
